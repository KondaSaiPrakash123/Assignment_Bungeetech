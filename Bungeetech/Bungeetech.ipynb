{
 "cells": [
  {
   "cell_type": "code",
   "execution_count": 1,
   "metadata": {},
   "outputs": [],
   "source": [
    "import pandas as pd"
   ]
  },
  {
   "cell_type": "code",
   "execution_count": 2,
   "metadata": {},
   "outputs": [
    {
     "data": {
      "text/html": [
       "<div>\n",
       "<style scoped>\n",
       "    .dataframe tbody tr th:only-of-type {\n",
       "        vertical-align: middle;\n",
       "    }\n",
       "\n",
       "    .dataframe tbody tr th {\n",
       "        vertical-align: top;\n",
       "    }\n",
       "\n",
       "    .dataframe thead th {\n",
       "        text-align: right;\n",
       "    }\n",
       "</style>\n",
       "<table border=\"1\" class=\"dataframe\">\n",
       "  <thead>\n",
       "    <tr style=\"text-align: right;\">\n",
       "      <th></th>\n",
       "      <th>SKU</th>\n",
       "      <th>DESCRIPTION</th>\n",
       "      <th>YEAR</th>\n",
       "      <th>CAPACITY</th>\n",
       "      <th>URL</th>\n",
       "      <th>PRICE</th>\n",
       "      <th>SELLER_INFORMATION</th>\n",
       "      <th>OFFER_DESCRIPTION</th>\n",
       "      <th>COUNTRY</th>\n",
       "    </tr>\n",
       "  </thead>\n",
       "  <tbody>\n",
       "    <tr>\n",
       "      <th>0</th>\n",
       "      <td>11331</td>\n",
       "      <td>Barbaresco,Angelo Gaja</td>\n",
       "      <td>1990</td>\n",
       "      <td>750ml</td>\n",
       "      <td>https://www.wine-searcher.com/find/barbaresco+...</td>\n",
       "      <td>$295.00</td>\n",
       "      <td>TopWines Switzerland SA</td>\n",
       "      <td>1990Barbaresco Gaja Angelo</td>\n",
       "      <td>Switzerland</td>\n",
       "    </tr>\n",
       "    <tr>\n",
       "      <th>1</th>\n",
       "      <td>11331</td>\n",
       "      <td>Barbaresco,Angelo Gaja</td>\n",
       "      <td>1990</td>\n",
       "      <td>750ml</td>\n",
       "      <td>https://www.wine-searcher.com/find/barbaresco+...</td>\n",
       "      <td>$324.62</td>\n",
       "      <td>Vintage Grand Cru</td>\n",
       "      <td>Gaja Barbaresco1990</td>\n",
       "      <td>Hong Kong</td>\n",
       "    </tr>\n",
       "    <tr>\n",
       "      <th>2</th>\n",
       "      <td>11331</td>\n",
       "      <td>Barbaresco,Angelo Gaja</td>\n",
       "      <td>1990</td>\n",
       "      <td>750ml</td>\n",
       "      <td>https://www.wine-searcher.com/find/barbaresco+...</td>\n",
       "      <td>$329.00</td>\n",
       "      <td>The Redd Collection</td>\n",
       "      <td>1990Barbaresco,Angelo Gaja</td>\n",
       "      <td>USA (CA)</td>\n",
       "    </tr>\n",
       "    <tr>\n",
       "      <th>3</th>\n",
       "      <td>11331</td>\n",
       "      <td>Barbaresco,Angelo Gaja</td>\n",
       "      <td>1990</td>\n",
       "      <td>750ml</td>\n",
       "      <td>https://www.wine-searcher.com/find/barbaresco+...</td>\n",
       "      <td>$338.68</td>\n",
       "      <td>Wine Walker (HK) Limited</td>\n",
       "      <td>Gaja Barbaresco,1990,Italy,Piedmont</td>\n",
       "      <td>Hong Kong</td>\n",
       "    </tr>\n",
       "    <tr>\n",
       "      <th>4</th>\n",
       "      <td>11331</td>\n",
       "      <td>Barbaresco,Angelo Gaja</td>\n",
       "      <td>1990</td>\n",
       "      <td>750ml</td>\n",
       "      <td>https://www.wine-searcher.com/find/barbaresco+...</td>\n",
       "      <td>$396.83</td>\n",
       "      <td>Enoteca Properzio</td>\n",
       "      <td>Barbaresco Gaja19900.75lt.</td>\n",
       "      <td>Italy</td>\n",
       "    </tr>\n",
       "  </tbody>\n",
       "</table>\n",
       "</div>"
      ],
      "text/plain": [
       "     SKU             DESCRIPTION  YEAR CAPACITY  \\\n",
       "0  11331  Barbaresco,Angelo Gaja  1990    750ml   \n",
       "1  11331  Barbaresco,Angelo Gaja  1990    750ml   \n",
       "2  11331  Barbaresco,Angelo Gaja  1990    750ml   \n",
       "3  11331  Barbaresco,Angelo Gaja  1990    750ml   \n",
       "4  11331  Barbaresco,Angelo Gaja  1990    750ml   \n",
       "\n",
       "                                                 URL    PRICE  \\\n",
       "0  https://www.wine-searcher.com/find/barbaresco+...  $295.00   \n",
       "1  https://www.wine-searcher.com/find/barbaresco+...  $324.62   \n",
       "2  https://www.wine-searcher.com/find/barbaresco+...  $329.00   \n",
       "3  https://www.wine-searcher.com/find/barbaresco+...  $338.68   \n",
       "4  https://www.wine-searcher.com/find/barbaresco+...  $396.83   \n",
       "\n",
       "         SELLER_INFORMATION                    OFFER_DESCRIPTION      COUNTRY  \n",
       "0   TopWines Switzerland SA           1990Barbaresco Gaja Angelo  Switzerland  \n",
       "1         Vintage Grand Cru                  Gaja Barbaresco1990    Hong Kong  \n",
       "2       The Redd Collection           1990Barbaresco,Angelo Gaja     USA (CA)  \n",
       "3  Wine Walker (HK) Limited  Gaja Barbaresco,1990,Italy,Piedmont    Hong Kong  \n",
       "4         Enoteca Properzio           Barbaresco Gaja19900.75lt.        Italy  "
      ]
     },
     "execution_count": 2,
     "metadata": {},
     "output_type": "execute_result"
    }
   ],
   "source": [
    "data = pd.read_csv('main.csv')\n",
    "data.head()"
   ]
  },
  {
   "cell_type": "code",
   "execution_count": 3,
   "metadata": {},
   "outputs": [],
   "source": [
    "# **Creating an output file**"
   ]
  },
  {
   "cell_type": "code",
   "execution_count": 4,
   "metadata": {},
   "outputs": [],
   "source": [
    "rows_Containing_USA = data.loc[data['COUNTRY'].str.contains('USA')]"
   ]
  },
  {
   "cell_type": "code",
   "execution_count": 5,
   "metadata": {},
   "outputs": [],
   "source": [
    "rows_Containing_USA.to_csv('filteredCountry.csv',index=False) "
   ]
  },
  {
   "cell_type": "code",
   "execution_count": 6,
   "metadata": {},
   "outputs": [
    {
     "data": {
      "text/html": [
       "<div>\n",
       "<style scoped>\n",
       "    .dataframe tbody tr th:only-of-type {\n",
       "        vertical-align: middle;\n",
       "    }\n",
       "\n",
       "    .dataframe tbody tr th {\n",
       "        vertical-align: top;\n",
       "    }\n",
       "\n",
       "    .dataframe thead th {\n",
       "        text-align: right;\n",
       "    }\n",
       "</style>\n",
       "<table border=\"1\" class=\"dataframe\">\n",
       "  <thead>\n",
       "    <tr style=\"text-align: right;\">\n",
       "      <th></th>\n",
       "      <th>SKU</th>\n",
       "      <th>DESCRIPTION</th>\n",
       "      <th>YEAR</th>\n",
       "      <th>CAPACITY</th>\n",
       "      <th>URL</th>\n",
       "      <th>PRICE</th>\n",
       "      <th>SELLER_INFORMATION</th>\n",
       "      <th>OFFER_DESCRIPTION</th>\n",
       "      <th>COUNTRY</th>\n",
       "    </tr>\n",
       "  </thead>\n",
       "  <tbody>\n",
       "    <tr>\n",
       "      <th>2</th>\n",
       "      <td>11331</td>\n",
       "      <td>Barbaresco,Angelo Gaja</td>\n",
       "      <td>1990</td>\n",
       "      <td>750ml</td>\n",
       "      <td>https://www.wine-searcher.com/find/barbaresco+...</td>\n",
       "      <td>$329.00</td>\n",
       "      <td>The Redd Collection</td>\n",
       "      <td>1990Barbaresco,Angelo Gaja</td>\n",
       "      <td>USA (CA)</td>\n",
       "    </tr>\n",
       "    <tr>\n",
       "      <th>6</th>\n",
       "      <td>11332</td>\n",
       "      <td>Barbaresco,Angelo Gaja</td>\n",
       "      <td>2010</td>\n",
       "      <td>750ml</td>\n",
       "      <td>https://www.wine-searcher.com/find/barbaresco+...</td>\n",
       "      <td>$175.00</td>\n",
       "      <td>The Redd Collection</td>\n",
       "      <td>2010Barbaresco,Angelo Gaja</td>\n",
       "      <td>USA (CA)</td>\n",
       "    </tr>\n",
       "    <tr>\n",
       "      <th>18</th>\n",
       "      <td>11333</td>\n",
       "      <td>Barbaresco,Costa Russi,Angelo Gaja</td>\n",
       "      <td>2009</td>\n",
       "      <td>750ml</td>\n",
       "      <td>https://www.wine-searcher.com/find/barbaresco+...</td>\n",
       "      <td>$304.00</td>\n",
       "      <td>The Redd Collection</td>\n",
       "      <td>2009Barbaresco,Costa Russi,Angelo Gaja</td>\n",
       "      <td>USA (CA)</td>\n",
       "    </tr>\n",
       "    <tr>\n",
       "      <th>22</th>\n",
       "      <td>11333</td>\n",
       "      <td>Barbaresco,Costa Russi,Angelo Gaja</td>\n",
       "      <td>2009</td>\n",
       "      <td>750ml</td>\n",
       "      <td>https://www.wine-searcher.com/find/barbaresco+...</td>\n",
       "      <td>$359.99</td>\n",
       "      <td>Lynnway Liquor Mart</td>\n",
       "      <td>Gaja Costa Russi Barbaresco20092009750ml</td>\n",
       "      <td>USA (MA)</td>\n",
       "    </tr>\n",
       "    <tr>\n",
       "      <th>23</th>\n",
       "      <td>11333</td>\n",
       "      <td>Barbaresco,Costa Russi,Angelo Gaja</td>\n",
       "      <td>2009</td>\n",
       "      <td>750ml</td>\n",
       "      <td>https://www.wine-searcher.com/find/barbaresco+...</td>\n",
       "      <td>$379.00</td>\n",
       "      <td>The Old &amp; Rare Wine Company</td>\n",
       "      <td>Angelo Gaja Costa Russi Langhe2009</td>\n",
       "      <td>USA (CA)</td>\n",
       "    </tr>\n",
       "  </tbody>\n",
       "</table>\n",
       "</div>"
      ],
      "text/plain": [
       "      SKU                         DESCRIPTION  YEAR CAPACITY  \\\n",
       "2   11331              Barbaresco,Angelo Gaja  1990    750ml   \n",
       "6   11332              Barbaresco,Angelo Gaja  2010    750ml   \n",
       "18  11333  Barbaresco,Costa Russi,Angelo Gaja  2009    750ml   \n",
       "22  11333  Barbaresco,Costa Russi,Angelo Gaja  2009    750ml   \n",
       "23  11333  Barbaresco,Costa Russi,Angelo Gaja  2009    750ml   \n",
       "\n",
       "                                                  URL    PRICE  \\\n",
       "2   https://www.wine-searcher.com/find/barbaresco+...  $329.00   \n",
       "6   https://www.wine-searcher.com/find/barbaresco+...  $175.00   \n",
       "18  https://www.wine-searcher.com/find/barbaresco+...  $304.00   \n",
       "22  https://www.wine-searcher.com/find/barbaresco+...  $359.99   \n",
       "23  https://www.wine-searcher.com/find/barbaresco+...  $379.00   \n",
       "\n",
       "             SELLER_INFORMATION                         OFFER_DESCRIPTION  \\\n",
       "2           The Redd Collection                1990Barbaresco,Angelo Gaja   \n",
       "6           The Redd Collection                2010Barbaresco,Angelo Gaja   \n",
       "18          The Redd Collection    2009Barbaresco,Costa Russi,Angelo Gaja   \n",
       "22          Lynnway Liquor Mart  Gaja Costa Russi Barbaresco20092009750ml   \n",
       "23  The Old & Rare Wine Company        Angelo Gaja Costa Russi Langhe2009   \n",
       "\n",
       "     COUNTRY  \n",
       "2   USA (CA)  \n",
       "6   USA (CA)  \n",
       "18  USA (CA)  \n",
       "22  USA (MA)  \n",
       "23  USA (CA)  "
      ]
     },
     "execution_count": 6,
     "metadata": {},
     "output_type": "execute_result"
    }
   ],
   "source": [
    "rows_Containing_USA.head()"
   ]
  },
  {
   "cell_type": "code",
   "execution_count": 7,
   "metadata": {},
   "outputs": [
    {
     "data": {
      "text/html": [
       "<div>\n",
       "<style scoped>\n",
       "    .dataframe tbody tr th:only-of-type {\n",
       "        vertical-align: middle;\n",
       "    }\n",
       "\n",
       "    .dataframe tbody tr th {\n",
       "        vertical-align: top;\n",
       "    }\n",
       "\n",
       "    .dataframe thead th {\n",
       "        text-align: right;\n",
       "    }\n",
       "</style>\n",
       "<table border=\"1\" class=\"dataframe\">\n",
       "  <thead>\n",
       "    <tr style=\"text-align: right;\">\n",
       "      <th></th>\n",
       "      <th>SKU</th>\n",
       "      <th>PRICE</th>\n",
       "    </tr>\n",
       "  </thead>\n",
       "  <tbody>\n",
       "    <tr>\n",
       "      <th>2</th>\n",
       "      <td>11331</td>\n",
       "      <td>$329.00</td>\n",
       "    </tr>\n",
       "    <tr>\n",
       "      <th>6</th>\n",
       "      <td>11332</td>\n",
       "      <td>$175.00</td>\n",
       "    </tr>\n",
       "    <tr>\n",
       "      <th>18</th>\n",
       "      <td>11333</td>\n",
       "      <td>$304.00</td>\n",
       "    </tr>\n",
       "    <tr>\n",
       "      <th>22</th>\n",
       "      <td>11333</td>\n",
       "      <td>$359.99</td>\n",
       "    </tr>\n",
       "    <tr>\n",
       "      <th>23</th>\n",
       "      <td>11333</td>\n",
       "      <td>$379.00</td>\n",
       "    </tr>\n",
       "  </tbody>\n",
       "</table>\n",
       "</div>"
      ],
      "text/plain": [
       "      SKU    PRICE\n",
       "2   11331  $329.00\n",
       "6   11332  $175.00\n",
       "18  11333  $304.00\n",
       "22  11333  $359.99\n",
       "23  11333  $379.00"
      ]
     },
     "execution_count": 7,
     "metadata": {},
     "output_type": "execute_result"
    }
   ],
   "source": [
    "df1 = rows_Containing_USA[['SKU','PRICE']]\n",
    "df1.head()"
   ]
  },
  {
   "cell_type": "code",
   "execution_count": 8,
   "metadata": {},
   "outputs": [],
   "source": [
    "def clean_currency(x):\n",
    "    if isinstance(x, str):\n",
    "        return(x.replace('$', '').replace(',', '').replace('?', ''))\n",
    "    return(x)"
   ]
  },
  {
   "cell_type": "code",
   "execution_count": 9,
   "metadata": {},
   "outputs": [],
   "source": [
    "# **Price data is modified from object type to float type**"
   ]
  },
  {
   "cell_type": "code",
   "execution_count": 10,
   "metadata": {},
   "outputs": [
    {
     "name": "stderr",
     "output_type": "stream",
     "text": [
      "<ipython-input-10-38dc88134c6c>:1: SettingWithCopyWarning: \n",
      "A value is trying to be set on a copy of a slice from a DataFrame.\n",
      "Try using .loc[row_indexer,col_indexer] = value instead\n",
      "\n",
      "See the caveats in the documentation: https://pandas.pydata.org/pandas-docs/stable/user_guide/indexing.html#returning-a-view-versus-a-copy\n",
      "  df1['PRICE'] = df1['PRICE'].apply(clean_currency).astype('float')\n"
     ]
    }
   ],
   "source": [
    "df1['PRICE'] = df1['PRICE'].apply(clean_currency).astype('float')"
   ]
  },
  {
   "cell_type": "code",
   "execution_count": 11,
   "metadata": {},
   "outputs": [],
   "source": [
    "df1.to_csv('modifiedfilteredCountry.csv',index=False)"
   ]
  },
  {
   "cell_type": "code",
   "execution_count": 12,
   "metadata": {},
   "outputs": [
    {
     "data": {
      "text/html": [
       "<div>\n",
       "<style scoped>\n",
       "    .dataframe tbody tr th:only-of-type {\n",
       "        vertical-align: middle;\n",
       "    }\n",
       "\n",
       "    .dataframe tbody tr th {\n",
       "        vertical-align: top;\n",
       "    }\n",
       "\n",
       "    .dataframe thead th {\n",
       "        text-align: right;\n",
       "    }\n",
       "</style>\n",
       "<table border=\"1\" class=\"dataframe\">\n",
       "  <thead>\n",
       "    <tr style=\"text-align: right;\">\n",
       "      <th></th>\n",
       "      <th>SKU</th>\n",
       "      <th>PRICE</th>\n",
       "    </tr>\n",
       "  </thead>\n",
       "  <tbody>\n",
       "    <tr>\n",
       "      <th>0</th>\n",
       "      <td>11331</td>\n",
       "      <td>329.00</td>\n",
       "    </tr>\n",
       "    <tr>\n",
       "      <th>1</th>\n",
       "      <td>11332</td>\n",
       "      <td>175.00</td>\n",
       "    </tr>\n",
       "    <tr>\n",
       "      <th>2</th>\n",
       "      <td>11333</td>\n",
       "      <td>304.00</td>\n",
       "    </tr>\n",
       "    <tr>\n",
       "      <th>3</th>\n",
       "      <td>11333</td>\n",
       "      <td>359.99</td>\n",
       "    </tr>\n",
       "    <tr>\n",
       "      <th>4</th>\n",
       "      <td>11333</td>\n",
       "      <td>379.00</td>\n",
       "    </tr>\n",
       "  </tbody>\n",
       "</table>\n",
       "</div>"
      ],
      "text/plain": [
       "     SKU   PRICE\n",
       "0  11331  329.00\n",
       "1  11332  175.00\n",
       "2  11333  304.00\n",
       "3  11333  359.99\n",
       "4  11333  379.00"
      ]
     },
     "execution_count": 12,
     "metadata": {},
     "output_type": "execute_result"
    }
   ],
   "source": [
    "first_and_second_min_prices = pd.read_csv(\"modifiedfilteredCountry.csv\")\n",
    "first_and_second_min_prices.head()"
   ]
  },
  {
   "cell_type": "code",
   "execution_count": 13,
   "metadata": {},
   "outputs": [],
   "source": [
    "df2 = first_and_second_min_prices.sort_values(['SKU','PRICE']).groupby('SKU').nth(1)\n",
    "df2['FIRST_MINIMUM_PRICE'] = first_and_second_min_prices.sort_values(['SKU','PRICE']).groupby('SKU').min()\n",
    "df2['SECOND_MINIMUM_PRICE'] = first_and_second_min_prices.sort_values(['SKU','PRICE']).groupby('SKU').nth(1)"
   ]
  },
  {
   "cell_type": "code",
   "execution_count": 14,
   "metadata": {},
   "outputs": [
    {
     "data": {
      "text/html": [
       "<div>\n",
       "<style scoped>\n",
       "    .dataframe tbody tr th:only-of-type {\n",
       "        vertical-align: middle;\n",
       "    }\n",
       "\n",
       "    .dataframe tbody tr th {\n",
       "        vertical-align: top;\n",
       "    }\n",
       "\n",
       "    .dataframe thead th {\n",
       "        text-align: right;\n",
       "    }\n",
       "</style>\n",
       "<table border=\"1\" class=\"dataframe\">\n",
       "  <thead>\n",
       "    <tr style=\"text-align: right;\">\n",
       "      <th></th>\n",
       "      <th>PRICE</th>\n",
       "      <th>FIRST_MINIMUM_PRICE</th>\n",
       "      <th>SECOND_MINIMUM_PRICE</th>\n",
       "    </tr>\n",
       "    <tr>\n",
       "      <th>SKU</th>\n",
       "      <th></th>\n",
       "      <th></th>\n",
       "      <th></th>\n",
       "    </tr>\n",
       "  </thead>\n",
       "  <tbody>\n",
       "    <tr>\n",
       "      <th>11333</th>\n",
       "      <td>359.99</td>\n",
       "      <td>304.0</td>\n",
       "      <td>359.99</td>\n",
       "    </tr>\n",
       "    <tr>\n",
       "      <th>11334</th>\n",
       "      <td>339.00</td>\n",
       "      <td>329.0</td>\n",
       "      <td>339.00</td>\n",
       "    </tr>\n",
       "    <tr>\n",
       "      <th>11335</th>\n",
       "      <td>315.00</td>\n",
       "      <td>304.0</td>\n",
       "      <td>315.00</td>\n",
       "    </tr>\n",
       "    <tr>\n",
       "      <th>11336</th>\n",
       "      <td>364.99</td>\n",
       "      <td>334.0</td>\n",
       "      <td>364.99</td>\n",
       "    </tr>\n",
       "    <tr>\n",
       "      <th>11337</th>\n",
       "      <td>364.99</td>\n",
       "      <td>334.0</td>\n",
       "      <td>364.99</td>\n",
       "    </tr>\n",
       "  </tbody>\n",
       "</table>\n",
       "</div>"
      ],
      "text/plain": [
       "        PRICE  FIRST_MINIMUM_PRICE  SECOND_MINIMUM_PRICE\n",
       "SKU                                                     \n",
       "11333  359.99                304.0                359.99\n",
       "11334  339.00                329.0                339.00\n",
       "11335  315.00                304.0                315.00\n",
       "11336  364.99                334.0                364.99\n",
       "11337  364.99                334.0                364.99"
      ]
     },
     "execution_count": 14,
     "metadata": {},
     "output_type": "execute_result"
    }
   ],
   "source": [
    "df2.head()"
   ]
  },
  {
   "cell_type": "code",
   "execution_count": 15,
   "metadata": {},
   "outputs": [],
   "source": [
    "df2.to_csv('temp_lowest_price.csv',index_label=\"SKU\")"
   ]
  },
  {
   "cell_type": "code",
   "execution_count": 16,
   "metadata": {},
   "outputs": [],
   "source": [
    "df = pd.read_csv(\"temp_lowest_price.csv\")"
   ]
  },
  {
   "cell_type": "code",
   "execution_count": 17,
   "metadata": {},
   "outputs": [],
   "source": [
    "final_data_frame = df.drop(labels='PRICE',axis='columns')"
   ]
  },
  {
   "cell_type": "code",
   "execution_count": 18,
   "metadata": {},
   "outputs": [
    {
     "data": {
      "text/html": [
       "<div>\n",
       "<style scoped>\n",
       "    .dataframe tbody tr th:only-of-type {\n",
       "        vertical-align: middle;\n",
       "    }\n",
       "\n",
       "    .dataframe tbody tr th {\n",
       "        vertical-align: top;\n",
       "    }\n",
       "\n",
       "    .dataframe thead th {\n",
       "        text-align: right;\n",
       "    }\n",
       "</style>\n",
       "<table border=\"1\" class=\"dataframe\">\n",
       "  <thead>\n",
       "    <tr style=\"text-align: right;\">\n",
       "      <th></th>\n",
       "      <th>SKU</th>\n",
       "      <th>FIRST_MINIMUM_PRICE</th>\n",
       "      <th>SECOND_MINIMUM_PRICE</th>\n",
       "    </tr>\n",
       "  </thead>\n",
       "  <tbody>\n",
       "    <tr>\n",
       "      <th>0</th>\n",
       "      <td>11333</td>\n",
       "      <td>304.0</td>\n",
       "      <td>359.99</td>\n",
       "    </tr>\n",
       "    <tr>\n",
       "      <th>1</th>\n",
       "      <td>11334</td>\n",
       "      <td>329.0</td>\n",
       "      <td>339.00</td>\n",
       "    </tr>\n",
       "    <tr>\n",
       "      <th>2</th>\n",
       "      <td>11335</td>\n",
       "      <td>304.0</td>\n",
       "      <td>315.00</td>\n",
       "    </tr>\n",
       "    <tr>\n",
       "      <th>3</th>\n",
       "      <td>11336</td>\n",
       "      <td>334.0</td>\n",
       "      <td>364.99</td>\n",
       "    </tr>\n",
       "    <tr>\n",
       "      <th>4</th>\n",
       "      <td>11337</td>\n",
       "      <td>334.0</td>\n",
       "      <td>364.99</td>\n",
       "    </tr>\n",
       "  </tbody>\n",
       "</table>\n",
       "</div>"
      ],
      "text/plain": [
       "     SKU  FIRST_MINIMUM_PRICE  SECOND_MINIMUM_PRICE\n",
       "0  11333                304.0                359.99\n",
       "1  11334                329.0                339.00\n",
       "2  11335                304.0                315.00\n",
       "3  11336                334.0                364.99\n",
       "4  11337                334.0                364.99"
      ]
     },
     "execution_count": 18,
     "metadata": {},
     "output_type": "execute_result"
    }
   ],
   "source": [
    "final_data_frame.head()"
   ]
  },
  {
   "cell_type": "code",
   "execution_count": 19,
   "metadata": {},
   "outputs": [],
   "source": [
    "final_data_frame.to_csv('lowestPrice.csv',index=False)"
   ]
  },
  {
   "cell_type": "code",
   "execution_count": null,
   "metadata": {},
   "outputs": [],
   "source": []
  }
 ],
 "metadata": {
  "kernelspec": {
   "display_name": "Python 3",
   "language": "python",
   "name": "python3"
  },
  "language_info": {
   "codemirror_mode": {
    "name": "ipython",
    "version": 3
   },
   "file_extension": ".py",
   "mimetype": "text/x-python",
   "name": "python",
   "nbconvert_exporter": "python",
   "pygments_lexer": "ipython3",
   "version": "3.8.5"
  }
 },
 "nbformat": 4,
 "nbformat_minor": 4
}
